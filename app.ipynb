{
 "cells": [
  {
   "cell_type": "markdown",
   "id": "57e42a23",
   "metadata": {},
   "source": [
    "----- PROJETO -------\n",
    "\n",
    "purchases: https://6884d6b3745306380a3994e2.mockapi.io/purchases\n",
    "\n",
    "usuarios: https://6884d6b3745306380a3994e2.mockapi.io/users\n",
    "\n",
    "sells: https://6884d6b3745306380a3994e2.mockapi.io/sells\n",
    "\n",
    "coins: https://6884d6b3745306380a3994e2.mockapi.io/coins \n",
    "\n",
    "** IDEIA PROJETO **\n",
    "\n",
    "1. Precisa popular usando a API os dados. purchases, sells, coins.\n",
    "\n",
    "2. Criar funcoes que integram os diferentes enderecos.\n",
    "\n",
    "3. combinar usuarios com purchases\n",
    "4. Combinar ususarios com sells"
   ]
  },
  {
   "cell_type": "code",
   "execution_count": 1,
   "id": "f396b3df",
   "metadata": {},
   "outputs": [],
   "source": [
    "import requests\n",
    "import pandas as pd\n",
    "import matplotlib.pyplot as plt\n",
    "import numpy as np"
   ]
  },
  {
   "cell_type": "code",
   "execution_count": 19,
   "id": "515d46c8",
   "metadata": {},
   "outputs": [],
   "source": [
    "\n",
    "#Usando GET para requisitar a api\n",
    "def get_users(): \n",
    "    req = requests.get('https://6884d6b3745306380a3994e2.mockapi.io/users')\n",
    "    \n",
    "    if req.status_code == 200:     #getUsers api\n",
    "        return req.json()\n",
    "    return {'Não foi possível se conectar com a api'}\n",
    "\n",
    "def get_purchases(): \n",
    "    req = requests.get('https://6884d6b3745306380a3994e2.mockapi.io/purchases')\n",
    "\n",
    "    if req.status_code == 200:      #getPurchases api\n",
    "        return req.json()\n",
    "    return {'Não foi possível se conectar com a api'}\n",
    "\n",
    "def get_sells():\n",
    "    req = requests.get('https://6884d6b3745306380a3994e2.mockapi.io/sells')\n",
    "\n",
    "    if req.status_code == 200:      #getSells api\n",
    "        return req.json()\n",
    "    return {'Não foi possivel conect com a api'}\n",
    "\n",
    "def get_coins():\n",
    "    req = requests.get(\"https://6884d6b3745306380a3994e2.mockapi.io/coins\")\n",
    "\n",
    "    if req.status_code == 200:\n",
    "        return req.json()\n",
    "    return {\"Não foi possivel conect com a api\"}\n",
    "\n",
    "\n",
    "\n"
   ]
  },
  {
   "cell_type": "code",
   "execution_count": null,
   "id": "7ae1be89",
   "metadata": {},
   "outputs": [],
   "source": [
    "#Função para mudar o arquivo para csv\n",
    "def json_to_csv(archive, data):\n",
    "    df = pd.DataFrame(data)\n",
    "    return df.to_csv(archive)\n"
   ]
  },
  {
   "cell_type": "code",
   "execution_count": null,
   "id": "d0b74f93",
   "metadata": {},
   "outputs": [],
   "source": [
    "user = get_users()\n",
    "json_to_csv('users.csv', user)"
   ]
  },
  {
   "cell_type": "code",
   "execution_count": 16,
   "id": "eb2f334d",
   "metadata": {},
   "outputs": [],
   "source": [
    "def create_purchases(coins_list):        \n",
    "    url = \"https://6884d6b3745306380a3994e2.mockapi.io/purchases\"\n",
    "    users = get_users()\n",
    "\n",
    "    for i, user in enumerate(users[:46]):\n",
    "        payload = {\n",
    "            \"price_purchase\": 1000 + i * 200,\n",
    "            \"id_user\": user['id'],\n",
    "            \"price_current\": 1000 + i * 300,\n",
    "            \"id_coin\": coins_list[i % len(coins_list)]\n",
    "         }\n",
    "        req = requests.post(url, json=payload)\n",
    "        print(req.json())\n",
    "\n",
    "def create_sells(coins_list):\n",
    "    url = \"https://6884d6b3745306380a3994e2.mockapi.io/sells\"\n",
    "    users = get_users()\n",
    "   \n",
    "\n",
    "    for i, user in enumerate(users[:46]):\n",
    "        selling = {\n",
    "            \"id_user\": user['id'],\n",
    "            \"id_coin\": coins_list[i % len(coins_list)],\n",
    "            \"price_sell\": 1500 + i * 500\n",
    "        }\n",
    "        req = requests.post(url, json=selling)\n",
    "        print(req.json())\n",
    "\n",
    "def create_coins(coins_list):\n",
    "    url = \"https://6884d6b3745306380a3994e2.mockapi.io/coins\"\n",
    "\n",
    "    for i, c in enumerate(coins_list[:6]):\n",
    "        bitcoins = {\n",
    "            \"name\": c,\n",
    "            \"current_price\": 30000 + i * 5000 \n",
    "        }\n",
    "        req = requests.post(url, json=bitcoins)\n",
    "        print(req.json())\n"
   ]
  },
  {
   "cell_type": "code",
   "execution_count": 20,
   "id": "65f14347",
   "metadata": {},
   "outputs": [
    {
     "name": "stdout",
     "output_type": "stream",
     "text": [
      "{'createdAt': '2025-08-07T10:53:21.923Z', 'id_user': '1', 'id_coin': 'bitcoin', 'price_sell': 1500, 'id': '70'}\n",
      "{'createdAt': '2025-08-07T12:33:41.092Z', 'id_user': '2', 'id_coin': 'ethereum', 'price_sell': 2000, 'id': '71'}\n",
      "{'createdAt': '2025-08-07T13:32:19.750Z', 'id_user': '3', 'id_coin': 'solana', 'price_sell': 2500, 'id': '72'}\n",
      "{'createdAt': '2025-08-07T08:04:53.711Z', 'id_user': '4', 'id_coin': 'cardano', 'price_sell': 3000, 'id': '73'}\n",
      "{'createdAt': '2025-08-06T18:05:02.469Z', 'id_user': '5', 'id_coin': 'dogecoin', 'price_sell': 3500, 'id': '74'}\n",
      "{'createdAt': '2025-08-07T07:20:41.723Z', 'id_user': '6', 'id_coin': 'litecoin', 'price_sell': 4000, 'id': '75'}\n",
      "{'createdAt': '2025-08-07T11:48:42.652Z', 'id_user': '7', 'id_coin': 'bitcoin', 'price_sell': 4500, 'id': '76'}\n",
      "{'createdAt': '2025-08-07T13:12:06.655Z', 'id_user': '8', 'id_coin': 'ethereum', 'price_sell': 5000, 'id': '77'}\n",
      "{'createdAt': '2025-08-07T04:38:35.811Z', 'id_user': '9', 'id_coin': 'solana', 'price_sell': 5500, 'id': '78'}\n",
      "{'createdAt': '2025-08-07T13:02:55.613Z', 'id_user': '10', 'id_coin': 'cardano', 'price_sell': 6000, 'id': '79'}\n",
      "{'createdAt': '2025-08-07T02:26:01.310Z', 'id_user': '11', 'id_coin': 'dogecoin', 'price_sell': 6500, 'id': '80'}\n",
      "{'createdAt': '2025-08-07T10:17:35.635Z', 'id_user': '12', 'id_coin': 'litecoin', 'price_sell': 7000, 'id': '81'}\n",
      "{'createdAt': '2025-08-07T12:42:41.994Z', 'id_user': '13', 'id_coin': 'bitcoin', 'price_sell': 7500, 'id': '82'}\n",
      "{'createdAt': '2025-08-06T17:23:53.779Z', 'id_user': '14', 'id_coin': 'ethereum', 'price_sell': 8000, 'id': '83'}\n",
      "{'createdAt': '2025-08-06T16:42:47.107Z', 'id_user': '15', 'id_coin': 'solana', 'price_sell': 8500, 'id': '84'}\n",
      "{'createdAt': '2025-08-06T19:02:52.685Z', 'id_user': '16', 'id_coin': 'cardano', 'price_sell': 9000, 'id': '85'}\n",
      "{'createdAt': '2025-08-06T17:38:39.582Z', 'id_user': '17', 'id_coin': 'dogecoin', 'price_sell': 9500, 'id': '86'}\n",
      "{'createdAt': '2025-08-07T13:40:39.796Z', 'id_user': '18', 'id_coin': 'litecoin', 'price_sell': 10000, 'id': '87'}\n",
      "{'createdAt': '2025-08-07T11:04:10.276Z', 'id_user': '19', 'id_coin': 'bitcoin', 'price_sell': 10500, 'id': '88'}\n",
      "{'createdAt': '2025-08-07T07:11:27.116Z', 'id_user': '20', 'id_coin': 'ethereum', 'price_sell': 11000, 'id': '89'}\n",
      "{'createdAt': '2025-08-06T23:42:31.618Z', 'id_user': '21', 'id_coin': 'solana', 'price_sell': 11500, 'id': '90'}\n",
      "{'createdAt': '2025-08-07T05:23:45.948Z', 'id_user': '22', 'id_coin': 'cardano', 'price_sell': 12000, 'id': '91'}\n",
      "{'createdAt': '2025-08-07T15:06:29.350Z', 'id_user': '23', 'id_coin': 'dogecoin', 'price_sell': 12500, 'id': '92'}\n",
      "{'createdAt': '2025-08-06T20:52:05.989Z', 'id_user': '24', 'id_coin': 'litecoin', 'price_sell': 13000, 'id': '93'}\n",
      "{'createdAt': '2025-08-07T01:09:43.826Z', 'id_user': '25', 'id_coin': 'bitcoin', 'price_sell': 13500, 'id': '94'}\n",
      "{'createdAt': '2025-08-06T23:22:01.105Z', 'id_user': '26', 'id_coin': 'ethereum', 'price_sell': 14000, 'id': '95'}\n",
      "{'createdAt': '2025-08-07T09:22:58.255Z', 'id_user': '27', 'id_coin': 'solana', 'price_sell': 14500, 'id': '96'}\n",
      "{'createdAt': '2025-08-06T20:05:05.164Z', 'id_user': '28', 'id_coin': 'cardano', 'price_sell': 15000, 'id': '97'}\n",
      "{'createdAt': '2025-08-07T03:19:45.439Z', 'id_user': '29', 'id_coin': 'dogecoin', 'price_sell': 15500, 'id': '98'}\n",
      "{'createdAt': '2025-08-06T16:27:59.032Z', 'id_user': '30', 'id_coin': 'litecoin', 'price_sell': 16000, 'id': '99'}\n",
      "{'createdAt': '2025-08-06T18:56:49.620Z', 'id_user': '31', 'id_coin': 'bitcoin', 'price_sell': 16500, 'id': '100'}\n",
      "Max number of elements reached for this resource!\n",
      "Max number of elements reached for this resource!\n",
      "Max number of elements reached for this resource!\n",
      "Max number of elements reached for this resource!\n",
      "Max number of elements reached for this resource!\n",
      "Max number of elements reached for this resource!\n",
      "Max number of elements reached for this resource!\n",
      "Max number of elements reached for this resource!\n",
      "Max number of elements reached for this resource!\n",
      "Max number of elements reached for this resource!\n",
      "Max number of elements reached for this resource!\n",
      "Max number of elements reached for this resource!\n",
      "Max number of elements reached for this resource!\n",
      "Max number of elements reached for this resource!\n",
      "Max number of elements reached for this resource!\n"
     ]
    }
   ],
   "source": [
    "\n",
    "coins_list = [\"bitcoin\", \"ethereum\", \"solana\", \"cardano\", \"dogecoin\", \"litecoin\"]\n",
    "create_sells(coins_list)\n",
    "# Populando usando POST"
   ]
  },
  {
   "cell_type": "code",
   "execution_count": null,
   "id": "b61be698",
   "metadata": {},
   "outputs": [],
   "source": [
    "# combinar usuarios com purchases\n",
    "def combine_users_purchases():\n",
    "    purchases = get_purchases()\n",
    "    users = get_users()\n",
    "    for p in purchases:\n",
    "        for u in users:\n",
    "            if p['id_user'] == u['id']:\n",
    "                print(f\"User: {u[\"name\"]} made the purchase {p['price_purchase']}\")\n",
    "\n",
    "\n",
    "# Combinar usuarios com sells\n",
    "\n",
    "def combine_users_sells():\n",
    "    sells = get_sells()\n",
    "    users = get_users()\n",
    "    for s in sells:\n",
    "        for u in users:\n",
    "            if s[\"id_user\"] == u['id']:\n",
    "                print(f\"User: {u['name']} made the sell of {s['price_sell']}\")\n"
   ]
  },
  {
   "cell_type": "code",
   "execution_count": null,
   "id": "4fccf06c",
   "metadata": {},
   "outputs": [],
   "source": [
    "# Testando combinar usuarios com sells\n",
    "\n",
    "combine_users_purchases()\n",
    "combine_users_sells()"
   ]
  },
  {
   "cell_type": "code",
   "execution_count": 21,
   "id": "29a4dd18",
   "metadata": {},
   "outputs": [],
   "source": [
    "def user_sells(id_user):\n",
    "    users = get_users()\n",
    "    sells = get_sells()\n",
    "    user = {}\n",
    "\n",
    "    for i in users:\n",
    "        if i['id'] == id_user:\n",
    "            user = i\n",
    "            break\n",
    "\n",
    "    user['sells'] = []\n",
    "    for i in sells:\n",
    "        if i['id_user'] == user['id']:\n",
    "            user['sells'].append(i)\n",
    "    return user\n",
    "\n",
    "def user_purchases(id_user):\n",
    "    users = get_users()\n",
    "    purchases = get_purchases()\n",
    "    user = {}\n",
    "\n",
    "    for i in users:\n",
    "        if i['id'] == id_user:\n",
    "            user = i\n",
    "            break\n",
    "\n",
    "    user['purchases'] = []\n",
    "    for i in purchases:\n",
    "        if i['id_user'] == user['id']:\n",
    "            user['purchases'].append(i)\n",
    "    return user\n",
    "\n",
    "\n"
   ]
  },
  {
   "cell_type": "code",
   "execution_count": 26,
   "id": "815ad392",
   "metadata": {},
   "outputs": [
    {
     "data": {
      "text/plain": [
       "{'createdAt': '2025-07-26T02:41:50.082Z',\n",
       " 'name': 'Melinda Hettinger',\n",
       " 'id': '23',\n",
       " 'sells': [{'createdAt': '2025-07-28T00:04:20.126Z',\n",
       "   'id_user': '23',\n",
       "   'id_coin': 'dogecoin',\n",
       "   'price_sell': 12500,\n",
       "   'id': '23'},\n",
       "  {'createdAt': '2025-08-07T14:13:56.058Z',\n",
       "   'id_user': '23',\n",
       "   'id_coin': 'dogecoin',\n",
       "   'price_sell': 12500,\n",
       "   'id': '69'},\n",
       "  {'createdAt': '2025-08-07T15:06:29.350Z',\n",
       "   'id_user': '23',\n",
       "   'id_coin': 'dogecoin',\n",
       "   'price_sell': 12500,\n",
       "   'id': '92'}]}"
      ]
     },
     "execution_count": 26,
     "metadata": {},
     "output_type": "execute_result"
    }
   ],
   "source": [
    "# user_purchases()\n",
    "user_sells('23')"
   ]
  },
  {
   "cell_type": "code",
   "execution_count": null,
   "id": "c2f39c70",
   "metadata": {},
   "outputs": [],
   "source": [
    "def exibir_user_sells(id_user):\n",
    "    user = user_sells(id_user)\n",
    "\n",
    "    print(user['name'])\n",
    "    for i in user['sells']:\n",
    "        print(f\"Actual price: {i['price_sell']}\")\n",
    "\n",
    "def exibir_user_purchases_sells(id_user):\n",
    "    funcao_p = user_purchases(id_user)\n",
    "    funcao_s = user_sells(id_user)\n",
    "\n",
    "    print(funcao_p['name'])\n",
    "    for i in funcao_p['purchases']:\n",
    "        for x in funcao_s['sells']:\n",
    "            print(f'Actual purchase price: {i['price_purchase']} | Actual price sell: {x[\"price_sell\"]}')\n"
   ]
  },
  {
   "cell_type": "code",
   "execution_count": null,
   "id": "0c8b2d3f",
   "metadata": {},
   "outputs": [],
   "source": [
    "exibir_user_purchases_sells('12')"
   ]
  },
  {
   "cell_type": "code",
   "execution_count": null,
   "id": "639bc5d8",
   "metadata": {},
   "outputs": [],
   "source": [
    "def calcular_purchase(id_user):\n",
    "    user = user_purchases(id_user)\n",
    "    purchases = user['purchases']\n",
    "    number_return = 0\n",
    "    for i in purchases:\n",
    "        number_return += float(i['price_purchase'])\n",
    "    return {\n",
    "        'id_user': id_user,\n",
    "        'name': user['name'],\n",
    "        'total_purchases': number_return\n",
    "    }\n",
    "\n",
    "def calcular_sells(id_user):\n",
    "    user = user_sells(id_user)\n",
    "    sells = user['sells']\n",
    "    number_return = 0\n",
    "    for i in sells:\n",
    "        number_return += float(i['price_sell'])\n",
    "    return {\n",
    "        'id_user': id_user,\n",
    "        'name': user['name'],\n",
    "        'total_sells' : number_return,\n",
    "    }\n",
    "\n",
    "def executar_saldo_liquido(id_user): \n",
    "   user = user_sells(id_user)\n",
    "   cal_purchases = calcular_purchase(id_user)\n",
    "   cal_sells = calcular_sells(id_user)\n",
    "   total_liquido = cal_purchases['total_purchases'] - cal_sells['total_sells']\n",
    "   return {\n",
    "           'id_user': id_user,\n",
    "           'name': user['name'],\n",
    "           'total_liquido': total_liquido,\n",
    "       }\n"
   ]
  },
  {
   "cell_type": "code",
   "execution_count": null,
   "id": "d5f4849e",
   "metadata": {},
   "outputs": [],
   "source": [
    "executar_saldo_liquido('2')"
   ]
  },
  {
   "cell_type": "code",
   "execution_count": null,
   "id": "3df8e7f4",
   "metadata": {},
   "outputs": [],
   "source": [
    "def return_array_number(id_user):\n",
    "    purchase = user_purchases(id_user)['purchases']\n",
    "    array = []\n",
    "    \n",
    "    \n",
    "    for i in purchase:\n",
    "        array.append(int(i['price_purchase']))\n",
    "    return array\n",
    "\n",
    "def graphic_qtd_purchase(id_user):\n",
    "    a = return_array_number(id_user)\n",
    "    b = []\n",
    "\n",
    "    for i in range(len(a)):\n",
    "        b.append(f'{i + 1} compras')\n",
    "\n",
    "    x = np.array(b)\n",
    "    y = np.array(a)\n",
    "\n",
    "    plt.bar(x, y)\n",
    "    plt.show()\n",
    "\n",
    "    "
   ]
  },
  {
   "cell_type": "code",
   "execution_count": null,
   "id": "01ef81a2",
   "metadata": {},
   "outputs": [],
   "source": [
    "graphic_qtd_purchase('11')"
   ]
  },
  {
   "cell_type": "code",
   "execution_count": null,
   "id": "f1ff1c61",
   "metadata": {},
   "outputs": [],
   "source": [
    "def return_array_number_sell(id_user):\n",
    "    sells = user_sells(id_user)['sells']\n",
    "    array = []\n",
    "\n",
    "    for i in sells:\n",
    "        array.append(int(i['price_sell']))\n",
    "    return array\n",
    "\n",
    "def graphic_qtd_sell(id_user):\n",
    "    a = return_array_number_sell(id_user)\n",
    "    b = []\n",
    "\n",
    "    for i in range(len(a)):\n",
    "        b.append(f\"{i + 1} venda\")\n",
    "    \n",
    "    x = np.array(b)\n",
    "    y = np.array(a)\n",
    "\n",
    "    plt.bar(x, y)\n",
    "    plt.show()\n"
   ]
  },
  {
   "cell_type": "code",
   "execution_count": null,
   "id": "aff56afd",
   "metadata": {},
   "outputs": [],
   "source": [
    "grafico_qtd_sell('12')"
   ]
  },
  {
   "cell_type": "code",
   "execution_count": 27,
   "id": "7389033d",
   "metadata": {},
   "outputs": [],
   "source": [
    "def graphic_first_purchase():  #Gráfico que\n",
    "    names = []\n",
    "    first_purchases = []\n",
    "\n",
    "    for i in range(1, 47):\n",
    "        user = user_purchases(str(i))\n",
    "        names.append(user['name'])\n",
    "        first_purchases.append(user['purchases'][0]['price_current'])\n",
    "\n",
    "    x = np.array(names)\n",
    "    y = np.array(first_purchases)\n",
    "\n",
    "    plt.bar(x, y)\n",
    "    plt.xlabel('Users')\n",
    "    plt.ylabel('First Purchase Price')\n",
    "    plt.xticks(rotation=90, fontsize=8)\n",
    "    plt.show()"
   ]
  },
  {
   "cell_type": "code",
   "execution_count": null,
   "id": "6a5fcb3e",
   "metadata": {},
   "outputs": [],
   "source": [
    "graphic_first_purchase()"
   ]
  },
  {
   "cell_type": "code",
   "execution_count": null,
   "id": "4abb17d3",
   "metadata": {},
   "outputs": [],
   "source": [
    "def graphic_first_sell():\n",
    "    names = []\n",
    "    first_sell = []\n",
    "\n",
    "    for i in range(1,47):\n",
    "        user = user_sells(str(i))\n",
    "        names.append(user['name'])\n",
    "        first_sell.append(user['sells'][0]['price_sell'])\n",
    "\n",
    "    x = np.array(names)\n",
    "    y = np.array(first_sell)\n",
    "\n",
    "    plt.bar(x, y)\n",
    "    plt.xlabel('Users', fontsize=12)\n",
    "    plt.ylabel('First Sell Price', fontsize=12)\n",
    "    plt.xticks(rotation=90, fontsize=8)\n",
    "    plt.show()\n"
   ]
  },
  {
   "cell_type": "code",
   "execution_count": null,
   "id": "f6395ae4",
   "metadata": {},
   "outputs": [],
   "source": [
    "grafico_first_sell()"
   ]
  },
  {
   "cell_type": "code",
   "execution_count": null,
   "id": "85a777bc",
   "metadata": {},
   "outputs": [],
   "source": [
    "def graphic_last_purchases():\n",
    "    names = []\n",
    "    last_purchases = []\n",
    "\n",
    "    for i in range(1, 47):\n",
    "        user = user_sells(str(i))\n",
    "        names.append(user['name'])\n",
    "        last_purchases.append(user['purchases'][-1]['price_sell'])\n",
    "\n",
    "    x = np.array(names)\n",
    "    y = np.array(last_purchases)\n",
    "\n",
    "    plt.bar(x, y)\n",
    "    plt.xlabel('Users', fontsize=12)\n",
    "    plt.ylabel('Last Sells', fontsize=12)\n",
    "    plt.xticks(rotation=90, fontsize=8)\n",
    "    plt.show()"
   ]
  },
  {
   "cell_type": "code",
   "execution_count": null,
   "id": "25ad38b6",
   "metadata": {},
   "outputs": [],
   "source": [
    "graphic_last_purchases"
   ]
  }
 ],
 "metadata": {
  "kernelspec": {
   "display_name": "Python 3",
   "language": "python",
   "name": "python3"
  },
  "language_info": {
   "codemirror_mode": {
    "name": "ipython",
    "version": 3
   },
   "file_extension": ".py",
   "mimetype": "text/x-python",
   "name": "python",
   "nbconvert_exporter": "python",
   "pygments_lexer": "ipython3",
   "version": "3.13.2"
  }
 },
 "nbformat": 4,
 "nbformat_minor": 5
}
