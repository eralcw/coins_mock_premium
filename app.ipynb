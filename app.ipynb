{
 "cells": [
  {
   "cell_type": "markdown",
   "id": "57e42a23",
   "metadata": {},
   "source": [
    "----- PROJETO -------\n",
    "\n",
    "purchases: https://6884d6b3745306380a3994e2.mockapi.io/purchases\n",
    "\n",
    "usuarios: https://6884d6b3745306380a3994e2.mockapi.io/users\n",
    "\n",
    "sells: https://6884d6b3745306380a3994e2.mockapi.io/sells\n",
    "\n",
    "coins: https://6884d6b3745306380a3994e2.mockapi.io/coins \n",
    "\n",
    "** IDEIA PROJETO **\n",
    "\n",
    "1. Precisa popular usando a API os dados. purchases, sells, coins.\n",
    "\n",
    "2. Criar funcoes que integram os diferentes enderecos.\n",
    "\n",
    "3. combinar usuarios com purchases\n",
    "4. Combinar ususarios com sells"
   ]
  },
  {
   "cell_type": "code",
   "execution_count": 1,
   "id": "f396b3df",
   "metadata": {},
   "outputs": [],
   "source": [
    "import requests\n",
    "import pandas as pd\n",
    "import matplotlib.pyplot as plt\n",
    "import numpy as np"
   ]
  },
  {
   "cell_type": "code",
   "execution_count": 2,
   "id": "515d46c8",
   "metadata": {},
   "outputs": [],
   "source": [
    "\n",
    "#Usando GET para requisitar a api\n",
    "def get_users(): \n",
    "    req = requests.get('https://6884d6b3745306380a3994e2.mockapi.io/users')\n",
    "    \n",
    "    if req.status_code == 200:     #getUsers api\n",
    "        return req.json()\n",
    "    return {'Não foi possível se conectar com a api'}\n",
    "\n",
    "def get_purchases(): \n",
    "    req = requests.get('https://6884d6b3745306380a3994e2.mockapi.io/purchases')\n",
    "\n",
    "    if req.status_code == 200:      #getPurchases api\n",
    "        return req.json()\n",
    "    return {'Não foi possível se conectar com a api'}\n",
    "\n",
    "def get_sells():\n",
    "    req = requests.get('https://6884d6b3745306380a3994e2.mockapi.io/sells')\n",
    "\n",
    "    if req.status_code == 200:      #getSells api\n",
    "        return req.json()\n",
    "    return {'Não foi possivel conect com a api'}\n",
    "\n",
    "def get_coins():\n",
    "    req = requests.get(\"https://6884d6b3745306380a3994e2.mockapi.io/coins\")\n",
    "\n",
    "    if req.status_code == 200:\n",
    "        return req.json()\n",
    "    return {\"Não foi possivel conect com a api\"}\n",
    "\n",
    "\n",
    "\n"
   ]
  },
  {
   "cell_type": "code",
   "execution_count": null,
   "id": "7ae1be89",
   "metadata": {},
   "outputs": [],
   "source": [
    "#Função para mudar o arquivo para csv\n",
    "def json_to_csv(archive, data):\n",
    "    df = pd.DataFrame(data)\n",
    "    return df.to_csv(archive)\n"
   ]
  },
  {
   "cell_type": "code",
   "execution_count": null,
   "id": "d0b74f93",
   "metadata": {},
   "outputs": [],
   "source": [
    "user = get_users()\n",
    "json_to_csv('users.csv', user)"
   ]
  },
  {
   "cell_type": "code",
   "execution_count": 16,
   "id": "eb2f334d",
   "metadata": {},
   "outputs": [],
   "source": [
    "def create_purchases(coins_list):        \n",
    "    url = \"https://6884d6b3745306380a3994e2.mockapi.io/purchases\"\n",
    "    users = get_users()\n",
    "\n",
    "    for i, user in enumerate(users[:46]):\n",
    "        payload = {\n",
    "            \"price_purchase\": 1000 + i * 200,\n",
    "            \"id_user\": user['id'],\n",
    "            \"price_current\": 1000 + i * 300,\n",
    "            \"id_coin\": coins_list[i % len(coins_list)]\n",
    "         }\n",
    "        req = requests.post(url, json=payload)\n",
    "        print(req.json())\n",
    "\n",
    "def create_sells(coins_list):\n",
    "    url = \"https://6884d6b3745306380a3994e2.mockapi.io/sells\"\n",
    "    users = get_users()\n",
    "   \n",
    "\n",
    "    for i, user in enumerate(users[:46]):\n",
    "        selling = {\n",
    "            \"id_user\": user['id'],\n",
    "            \"id_coin\": coins_list[i % len(coins_list)],\n",
    "            \"price_sell\": 1500 + i * 500\n",
    "        }\n",
    "        req = requests.post(url, json=selling)\n",
    "        print(req.json())\n",
    "\n",
    "def create_coins(coins_list):\n",
    "    url = \"https://6884d6b3745306380a3994e2.mockapi.io/coins\"\n",
    "\n",
    "    for i, c in enumerate(coins_list[:6]):\n",
    "        bitcoins = {\n",
    "            \"name\": c,\n",
    "            \"current_price\": 30000 + i * 5000 \n",
    "        }\n",
    "        req = requests.post(url, json=bitcoins)\n",
    "        print(req.json())\n"
   ]
  },
  {
   "cell_type": "code",
   "execution_count": 17,
   "id": "65f14347",
   "metadata": {},
   "outputs": [
    {
     "name": "stdout",
     "output_type": "stream",
     "text": [
      "{'createdAt': '2025-08-07T11:20:43.162Z', 'id_user': '1', 'id_coin': 'bitcoin', 'price_sell': 1500, 'id': '47'}\n",
      "{'createdAt': '2025-08-06T23:18:58.787Z', 'id_user': '2', 'id_coin': 'ethereum', 'price_sell': 2000, 'id': '48'}\n",
      "{'createdAt': '2025-08-06T21:28:59.746Z', 'id_user': '3', 'id_coin': 'solana', 'price_sell': 2500, 'id': '49'}\n",
      "{'createdAt': '2025-08-07T02:03:44.862Z', 'id_user': '4', 'id_coin': 'cardano', 'price_sell': 3000, 'id': '50'}\n",
      "{'createdAt': '2025-08-07T15:50:08.705Z', 'id_user': '5', 'id_coin': 'dogecoin', 'price_sell': 3500, 'id': '51'}\n",
      "{'createdAt': '2025-08-07T08:42:15.251Z', 'id_user': '6', 'id_coin': 'litecoin', 'price_sell': 4000, 'id': '52'}\n",
      "{'createdAt': '2025-08-07T09:02:36.910Z', 'id_user': '7', 'id_coin': 'bitcoin', 'price_sell': 4500, 'id': '53'}\n",
      "{'createdAt': '2025-08-07T08:47:53.913Z', 'id_user': '8', 'id_coin': 'ethereum', 'price_sell': 5000, 'id': '54'}\n",
      "{'createdAt': '2025-08-07T04:10:28.084Z', 'id_user': '9', 'id_coin': 'solana', 'price_sell': 5500, 'id': '55'}\n",
      "{'createdAt': '2025-08-07T05:21:02.136Z', 'id_user': '10', 'id_coin': 'cardano', 'price_sell': 6000, 'id': '56'}\n",
      "{'createdAt': '2025-08-07T03:35:36.161Z', 'id_user': '11', 'id_coin': 'dogecoin', 'price_sell': 6500, 'id': '57'}\n",
      "{'createdAt': '2025-08-07T01:12:48.533Z', 'id_user': '12', 'id_coin': 'litecoin', 'price_sell': 7000, 'id': '58'}\n",
      "{'createdAt': '2025-08-07T02:41:24.204Z', 'id_user': '13', 'id_coin': 'bitcoin', 'price_sell': 7500, 'id': '59'}\n",
      "{'createdAt': '2025-08-06T22:24:17.559Z', 'id_user': '14', 'id_coin': 'ethereum', 'price_sell': 8000, 'id': '60'}\n",
      "{'createdAt': '2025-08-06T17:48:37.311Z', 'id_user': '15', 'id_coin': 'solana', 'price_sell': 8500, 'id': '61'}\n",
      "{'createdAt': '2025-08-07T09:07:28.164Z', 'id_user': '16', 'id_coin': 'cardano', 'price_sell': 9000, 'id': '62'}\n",
      "{'createdAt': '2025-08-07T08:20:13.654Z', 'id_user': '17', 'id_coin': 'dogecoin', 'price_sell': 9500, 'id': '63'}\n",
      "{'createdAt': '2025-08-07T14:12:06.323Z', 'id_user': '18', 'id_coin': 'litecoin', 'price_sell': 10000, 'id': '64'}\n",
      "{'createdAt': '2025-08-06T22:37:27.417Z', 'id_user': '19', 'id_coin': 'bitcoin', 'price_sell': 10500, 'id': '65'}\n",
      "{'createdAt': '2025-08-07T06:32:42.008Z', 'id_user': '20', 'id_coin': 'ethereum', 'price_sell': 11000, 'id': '66'}\n",
      "{'createdAt': '2025-08-06T23:05:06.739Z', 'id_user': '21', 'id_coin': 'solana', 'price_sell': 11500, 'id': '67'}\n",
      "{'createdAt': '2025-08-07T08:00:25.847Z', 'id_user': '22', 'id_coin': 'cardano', 'price_sell': 12000, 'id': '68'}\n",
      "{'createdAt': '2025-08-07T14:13:56.058Z', 'id_user': '23', 'id_coin': 'dogecoin', 'price_sell': 12500, 'id': '69'}\n"
     ]
    },
    {
     "ename": "JSONDecodeError",
     "evalue": "Expecting value: line 1 column 1 (char 0)",
     "output_type": "error",
     "traceback": [
      "\u001b[31m---------------------------------------------------------------------------\u001b[39m",
      "\u001b[31mJSONDecodeError\u001b[39m                           Traceback (most recent call last)",
      "\u001b[36mFile \u001b[39m\u001b[32mc:\\Users\\clare\\AppData\\Local\\Programs\\Python\\Python313\\Lib\\site-packages\\requests\\models.py:976\u001b[39m, in \u001b[36mResponse.json\u001b[39m\u001b[34m(self, **kwargs)\u001b[39m\n\u001b[32m    975\u001b[39m \u001b[38;5;28;01mtry\u001b[39;00m:\n\u001b[32m--> \u001b[39m\u001b[32m976\u001b[39m     \u001b[38;5;28;01mreturn\u001b[39;00m \u001b[43mcomplexjson\u001b[49m\u001b[43m.\u001b[49m\u001b[43mloads\u001b[49m\u001b[43m(\u001b[49m\u001b[38;5;28;43mself\u001b[39;49m\u001b[43m.\u001b[49m\u001b[43mtext\u001b[49m\u001b[43m,\u001b[49m\u001b[43m \u001b[49m\u001b[43m*\u001b[49m\u001b[43m*\u001b[49m\u001b[43mkwargs\u001b[49m\u001b[43m)\u001b[49m\n\u001b[32m    977\u001b[39m \u001b[38;5;28;01mexcept\u001b[39;00m JSONDecodeError \u001b[38;5;28;01mas\u001b[39;00m e:\n\u001b[32m    978\u001b[39m     \u001b[38;5;66;03m# Catch JSON-related errors and raise as requests.JSONDecodeError\u001b[39;00m\n\u001b[32m    979\u001b[39m     \u001b[38;5;66;03m# This aliases json.JSONDecodeError and simplejson.JSONDecodeError\u001b[39;00m\n",
      "\u001b[36mFile \u001b[39m\u001b[32mc:\\Users\\clare\\AppData\\Local\\Programs\\Python\\Python313\\Lib\\json\\__init__.py:346\u001b[39m, in \u001b[36mloads\u001b[39m\u001b[34m(s, cls, object_hook, parse_float, parse_int, parse_constant, object_pairs_hook, **kw)\u001b[39m\n\u001b[32m    343\u001b[39m \u001b[38;5;28;01mif\u001b[39;00m (\u001b[38;5;28mcls\u001b[39m \u001b[38;5;129;01mis\u001b[39;00m \u001b[38;5;28;01mNone\u001b[39;00m \u001b[38;5;129;01mand\u001b[39;00m object_hook \u001b[38;5;129;01mis\u001b[39;00m \u001b[38;5;28;01mNone\u001b[39;00m \u001b[38;5;129;01mand\u001b[39;00m\n\u001b[32m    344\u001b[39m         parse_int \u001b[38;5;129;01mis\u001b[39;00m \u001b[38;5;28;01mNone\u001b[39;00m \u001b[38;5;129;01mand\u001b[39;00m parse_float \u001b[38;5;129;01mis\u001b[39;00m \u001b[38;5;28;01mNone\u001b[39;00m \u001b[38;5;129;01mand\u001b[39;00m\n\u001b[32m    345\u001b[39m         parse_constant \u001b[38;5;129;01mis\u001b[39;00m \u001b[38;5;28;01mNone\u001b[39;00m \u001b[38;5;129;01mand\u001b[39;00m object_pairs_hook \u001b[38;5;129;01mis\u001b[39;00m \u001b[38;5;28;01mNone\u001b[39;00m \u001b[38;5;129;01mand\u001b[39;00m \u001b[38;5;129;01mnot\u001b[39;00m kw):\n\u001b[32m--> \u001b[39m\u001b[32m346\u001b[39m     \u001b[38;5;28;01mreturn\u001b[39;00m \u001b[43m_default_decoder\u001b[49m\u001b[43m.\u001b[49m\u001b[43mdecode\u001b[49m\u001b[43m(\u001b[49m\u001b[43ms\u001b[49m\u001b[43m)\u001b[49m\n\u001b[32m    347\u001b[39m \u001b[38;5;28;01mif\u001b[39;00m \u001b[38;5;28mcls\u001b[39m \u001b[38;5;129;01mis\u001b[39;00m \u001b[38;5;28;01mNone\u001b[39;00m:\n",
      "\u001b[36mFile \u001b[39m\u001b[32mc:\\Users\\clare\\AppData\\Local\\Programs\\Python\\Python313\\Lib\\json\\decoder.py:345\u001b[39m, in \u001b[36mJSONDecoder.decode\u001b[39m\u001b[34m(self, s, _w)\u001b[39m\n\u001b[32m    341\u001b[39m \u001b[38;5;250m\u001b[39m\u001b[33;03m\"\"\"Return the Python representation of ``s`` (a ``str`` instance\u001b[39;00m\n\u001b[32m    342\u001b[39m \u001b[33;03mcontaining a JSON document).\u001b[39;00m\n\u001b[32m    343\u001b[39m \n\u001b[32m    344\u001b[39m \u001b[33;03m\"\"\"\u001b[39;00m\n\u001b[32m--> \u001b[39m\u001b[32m345\u001b[39m obj, end = \u001b[38;5;28;43mself\u001b[39;49m\u001b[43m.\u001b[49m\u001b[43mraw_decode\u001b[49m\u001b[43m(\u001b[49m\u001b[43ms\u001b[49m\u001b[43m,\u001b[49m\u001b[43m \u001b[49m\u001b[43midx\u001b[49m\u001b[43m=\u001b[49m\u001b[43m_w\u001b[49m\u001b[43m(\u001b[49m\u001b[43ms\u001b[49m\u001b[43m,\u001b[49m\u001b[43m \u001b[49m\u001b[32;43m0\u001b[39;49m\u001b[43m)\u001b[49m\u001b[43m.\u001b[49m\u001b[43mend\u001b[49m\u001b[43m(\u001b[49m\u001b[43m)\u001b[49m\u001b[43m)\u001b[49m\n\u001b[32m    346\u001b[39m end = _w(s, end).end()\n",
      "\u001b[36mFile \u001b[39m\u001b[32mc:\\Users\\clare\\AppData\\Local\\Programs\\Python\\Python313\\Lib\\json\\decoder.py:363\u001b[39m, in \u001b[36mJSONDecoder.raw_decode\u001b[39m\u001b[34m(self, s, idx)\u001b[39m\n\u001b[32m    362\u001b[39m \u001b[38;5;28;01mexcept\u001b[39;00m \u001b[38;5;167;01mStopIteration\u001b[39;00m \u001b[38;5;28;01mas\u001b[39;00m err:\n\u001b[32m--> \u001b[39m\u001b[32m363\u001b[39m     \u001b[38;5;28;01mraise\u001b[39;00m JSONDecodeError(\u001b[33m\"\u001b[39m\u001b[33mExpecting value\u001b[39m\u001b[33m\"\u001b[39m, s, err.value) \u001b[38;5;28;01mfrom\u001b[39;00m\u001b[38;5;250m \u001b[39m\u001b[38;5;28;01mNone\u001b[39;00m\n\u001b[32m    364\u001b[39m \u001b[38;5;28;01mreturn\u001b[39;00m obj, end\n",
      "\u001b[31mJSONDecodeError\u001b[39m: Expecting value: line 1 column 1 (char 0)",
      "\nDuring handling of the above exception, another exception occurred:\n",
      "\u001b[31mJSONDecodeError\u001b[39m                           Traceback (most recent call last)",
      "\u001b[36mCell\u001b[39m\u001b[36m \u001b[39m\u001b[32mIn[17]\u001b[39m\u001b[32m, line 2\u001b[39m\n\u001b[32m      1\u001b[39m coins_list = [\u001b[33m\"\u001b[39m\u001b[33mbitcoin\u001b[39m\u001b[33m\"\u001b[39m, \u001b[33m\"\u001b[39m\u001b[33methereum\u001b[39m\u001b[33m\"\u001b[39m, \u001b[33m\"\u001b[39m\u001b[33msolana\u001b[39m\u001b[33m\"\u001b[39m, \u001b[33m\"\u001b[39m\u001b[33mcardano\u001b[39m\u001b[33m\"\u001b[39m, \u001b[33m\"\u001b[39m\u001b[33mdogecoin\u001b[39m\u001b[33m\"\u001b[39m, \u001b[33m\"\u001b[39m\u001b[33mlitecoin\u001b[39m\u001b[33m\"\u001b[39m]\n\u001b[32m----> \u001b[39m\u001b[32m2\u001b[39m \u001b[43mcreate_sells\u001b[49m\u001b[43m(\u001b[49m\u001b[43mcoins_list\u001b[49m\u001b[43m)\u001b[49m\n\u001b[32m      3\u001b[39m \u001b[38;5;66;03m# Populando usando POST\u001b[39;00m\n",
      "\u001b[36mCell\u001b[39m\u001b[36m \u001b[39m\u001b[32mIn[16]\u001b[39m\u001b[32m, line 27\u001b[39m, in \u001b[36mcreate_sells\u001b[39m\u001b[34m(coins_list)\u001b[39m\n\u001b[32m     21\u001b[39m selling = {\n\u001b[32m     22\u001b[39m     \u001b[33m\"\u001b[39m\u001b[33mid_user\u001b[39m\u001b[33m\"\u001b[39m: user[\u001b[33m'\u001b[39m\u001b[33mid\u001b[39m\u001b[33m'\u001b[39m],\n\u001b[32m     23\u001b[39m     \u001b[33m\"\u001b[39m\u001b[33mid_coin\u001b[39m\u001b[33m\"\u001b[39m: coins_list[i % \u001b[38;5;28mlen\u001b[39m(coins_list)],\n\u001b[32m     24\u001b[39m     \u001b[33m\"\u001b[39m\u001b[33mprice_sell\u001b[39m\u001b[33m\"\u001b[39m: \u001b[32m1500\u001b[39m + i * \u001b[32m500\u001b[39m\n\u001b[32m     25\u001b[39m }\n\u001b[32m     26\u001b[39m req = requests.post(url, json=selling)\n\u001b[32m---> \u001b[39m\u001b[32m27\u001b[39m \u001b[38;5;28mprint\u001b[39m(\u001b[43mreq\u001b[49m\u001b[43m.\u001b[49m\u001b[43mjson\u001b[49m\u001b[43m(\u001b[49m\u001b[43m)\u001b[49m)\n",
      "\u001b[36mFile \u001b[39m\u001b[32mc:\\Users\\clare\\AppData\\Local\\Programs\\Python\\Python313\\Lib\\site-packages\\requests\\models.py:980\u001b[39m, in \u001b[36mResponse.json\u001b[39m\u001b[34m(self, **kwargs)\u001b[39m\n\u001b[32m    976\u001b[39m     \u001b[38;5;28;01mreturn\u001b[39;00m complexjson.loads(\u001b[38;5;28mself\u001b[39m.text, **kwargs)\n\u001b[32m    977\u001b[39m \u001b[38;5;28;01mexcept\u001b[39;00m JSONDecodeError \u001b[38;5;28;01mas\u001b[39;00m e:\n\u001b[32m    978\u001b[39m     \u001b[38;5;66;03m# Catch JSON-related errors and raise as requests.JSONDecodeError\u001b[39;00m\n\u001b[32m    979\u001b[39m     \u001b[38;5;66;03m# This aliases json.JSONDecodeError and simplejson.JSONDecodeError\u001b[39;00m\n\u001b[32m--> \u001b[39m\u001b[32m980\u001b[39m     \u001b[38;5;28;01mraise\u001b[39;00m RequestsJSONDecodeError(e.msg, e.doc, e.pos)\n",
      "\u001b[31mJSONDecodeError\u001b[39m: Expecting value: line 1 column 1 (char 0)"
     ]
    }
   ],
   "source": [
    "\n",
    "coins_list = [\"bitcoin\", \"ethereum\", \"solana\", \"cardano\", \"dogecoin\", \"litecoin\"]\n",
    "create_sells(coins_list)\n",
    "# Populando usando POST"
   ]
  },
  {
   "cell_type": "code",
   "execution_count": null,
   "id": "b61be698",
   "metadata": {},
   "outputs": [],
   "source": [
    "# combinar usuarios com purchases\n",
    "def combine_users_purchases():\n",
    "    purchases = get_purchases()\n",
    "    users = get_users()\n",
    "    for p in purchases:\n",
    "        for u in users:\n",
    "            if p['id_user'] == u['id']:\n",
    "                print(f\"User: {u[\"name\"]} made the purchase {p['price_purchase']}\")\n",
    "\n",
    "\n",
    "# Combinar usuarios com sells\n",
    "\n",
    "def combine_users_sells():\n",
    "    sells = get_sells()\n",
    "    users = get_users()\n",
    "    for s in sells:\n",
    "        for u in users:\n",
    "            if s[\"id_user\"] == u['id']:\n",
    "                print(f\"User: {u['name']} made the sell of {s['price_sell']}\")\n"
   ]
  },
  {
   "cell_type": "code",
   "execution_count": null,
   "id": "4fccf06c",
   "metadata": {},
   "outputs": [],
   "source": [
    "# Testando combinar usuarios com sells\n",
    "\n",
    "combine_users_purchases()\n",
    "combine_users_sells()"
   ]
  },
  {
   "cell_type": "code",
   "execution_count": 3,
   "id": "29a4dd18",
   "metadata": {},
   "outputs": [],
   "source": [
    "def user_sells(id_user):\n",
    "    users = get_users()\n",
    "    sells = get_sells()\n",
    "    user = {}\n",
    "\n",
    "    for i in users:\n",
    "        if i['id'] == id_user:\n",
    "            user = i\n",
    "            break\n",
    "\n",
    "    user['sells'] = []\n",
    "    for i in sells:\n",
    "        if i['id_user'] == user['id']:\n",
    "            user['sells'].append(i)\n",
    "    return user\n",
    "\n",
    "def user_purchases(id_user):\n",
    "    users = get_users()\n",
    "    purchases = get_purchases()\n",
    "    user = {}\n",
    "\n",
    "    for i in users:\n",
    "        if i['id'] == id_user:\n",
    "            user = i\n",
    "            break\n",
    "\n",
    "    user['purchases'] = []\n",
    "    for i in purchases:\n",
    "        if i['id_user'] == user['id']:\n",
    "            user['purchases'].append(i)\n",
    "    return user\n",
    "\n",
    "\n"
   ]
  },
  {
   "cell_type": "code",
   "execution_count": 13,
   "id": "815ad392",
   "metadata": {},
   "outputs": [
    {
     "data": {
      "text/plain": [
       "{'createdAt': '2025-07-25T21:35:15.138Z',\n",
       " 'name': 'Beth Kerluke',\n",
       " 'id': '12',\n",
       " 'purchases': [{'createdAt': '2025-07-28T09:32:45.703Z',\n",
       "   'price_purchase': 6500,\n",
       "   'id_user': '12',\n",
       "   'price_current': 8700,\n",
       "   'id_coin': 'litecoin',\n",
       "   'id': '12'},\n",
       "  {'createdAt': '2025-07-28T07:27:59.757Z',\n",
       "   'price_purchase': '3000',\n",
       "   'id_user': '12',\n",
       "   'price_current': '6000',\n",
       "   'id_coin': 'id_coin 47',\n",
       "   'id': '47'},\n",
       "  {'createdAt': '2025-07-30T06:12:45.146Z',\n",
       "   'price_purchase': 6500,\n",
       "   'id_user': '12',\n",
       "   'price_current': 8700,\n",
       "   'id_coin': 'litecoin',\n",
       "   'id': '59'}]}"
      ]
     },
     "execution_count": 13,
     "metadata": {},
     "output_type": "execute_result"
    }
   ],
   "source": [
    "# user_purchases()\n",
    "user_purchases('12')"
   ]
  },
  {
   "cell_type": "code",
   "execution_count": null,
   "id": "c2f39c70",
   "metadata": {},
   "outputs": [],
   "source": [
    "def exibir_user_sells(id_user):\n",
    "    user = user_sells(id_user)\n",
    "\n",
    "    print(user['name'])\n",
    "    for i in user['sells']:\n",
    "        print(f\"Actual price: {i['price_sell']}\")\n",
    "\n",
    "def exibir_user_purchases_sells(id_user):\n",
    "    funcao_p = user_purchases(id_user)\n",
    "    funcao_s = user_sells(id_user)\n",
    "\n",
    "    print(funcao_p['name'])\n",
    "    for i in funcao_p['purchases']:\n",
    "        for x in funcao_s['sells']:\n",
    "            print(f'Actual purchase price: {i['price_purchase']} | Actual price sell: {x[\"price_sell\"]}')\n"
   ]
  },
  {
   "cell_type": "code",
   "execution_count": null,
   "id": "0c8b2d3f",
   "metadata": {},
   "outputs": [],
   "source": [
    "exibir_user_purchases_sells('12')"
   ]
  },
  {
   "cell_type": "code",
   "execution_count": null,
   "id": "639bc5d8",
   "metadata": {},
   "outputs": [],
   "source": [
    "def calcular_purchase(id_user):\n",
    "    user = user_purchases(id_user)\n",
    "    purchases = user['purchases']\n",
    "    number_return = 0\n",
    "    for i in purchases:\n",
    "        number_return += float(i['price_purchase'])\n",
    "    return {\n",
    "        'id_user': id_user,\n",
    "        'name': user['name'],\n",
    "        'total_purchases': number_return\n",
    "    }\n",
    "\n",
    "def calcular_sells(id_user):\n",
    "    user = user_sells(id_user)\n",
    "    sells = user['sells']\n",
    "    number_return = 0\n",
    "    for i in sells:\n",
    "        number_return += float(i['price_sell'])\n",
    "    return {\n",
    "        'id_user': id_user,\n",
    "        'name': user['name'],\n",
    "        'total_sells' : number_return,\n",
    "    }\n",
    "\n",
    "def executar_saldo_liquido(id_user): \n",
    "   user = user_sells(id_user)\n",
    "   cal_purchases = calcular_purchase(id_user)\n",
    "   cal_sells = calcular_sells(id_user)\n",
    "   total_liquido = cal_purchases['total_purchases'] - cal_sells['total_sells']\n",
    "   return {\n",
    "           'id_user': id_user,\n",
    "           'name': user['name'],\n",
    "           'total_liquido': total_liquido,\n",
    "       }\n"
   ]
  },
  {
   "cell_type": "code",
   "execution_count": null,
   "id": "d5f4849e",
   "metadata": {},
   "outputs": [],
   "source": [
    "executar_saldo_liquido('2')"
   ]
  },
  {
   "cell_type": "code",
   "execution_count": null,
   "id": "3df8e7f4",
   "metadata": {},
   "outputs": [],
   "source": [
    "def return_array_number(id_user):\n",
    "    purchase = user_purchases(id_user)['purchases']\n",
    "    array = []\n",
    "    \n",
    "    \n",
    "    for i in purchase:\n",
    "        array.append(int(i['price_purchase']))\n",
    "    return array\n",
    "\n",
    "def grafico_qtd_purchase(id_user):\n",
    "    a = return_array_number(id_user)\n",
    "    b = []\n",
    "\n",
    "    for i in range(len(a)):\n",
    "        b.append(f'{i + 1} compras')\n",
    "\n",
    "    x = np.array(b)\n",
    "    y = np.array(a)\n",
    "\n",
    "    plt.bar(x, y)\n",
    "    plt.show()\n",
    "\n",
    "    "
   ]
  },
  {
   "cell_type": "code",
   "execution_count": null,
   "id": "01ef81a2",
   "metadata": {},
   "outputs": [],
   "source": [
    "grafico_qtd_purchase('11')"
   ]
  },
  {
   "cell_type": "code",
   "execution_count": null,
   "id": "f1ff1c61",
   "metadata": {},
   "outputs": [],
   "source": [
    "def return_array_number_sell(id_user):\n",
    "    sells = user_sells(id_user)['sells']\n",
    "    array = []\n",
    "\n",
    "    for i in sells:\n",
    "        array.append(int(i['price_sell']))\n",
    "    return array\n",
    "\n",
    "def grafico_qtd_sell(id_user):\n",
    "    a = return_array_number_sell(id_user)\n",
    "    b = []\n",
    "\n",
    "    for i in range(len(a)):\n",
    "        b.append(f\"{i + 1} venda\")\n",
    "    \n",
    "    x = np.array(b)\n",
    "    y = np.array(a)\n",
    "\n",
    "    plt.bar(x, y)\n",
    "    plt.show()\n"
   ]
  },
  {
   "cell_type": "code",
   "execution_count": null,
   "id": "aff56afd",
   "metadata": {},
   "outputs": [],
   "source": [
    "grafico_qtd_sell('12')"
   ]
  },
  {
   "cell_type": "code",
   "execution_count": null,
   "id": "7389033d",
   "metadata": {},
   "outputs": [],
   "source": [
    "def grafico_first_purchase():  #Gráfico que\n",
    "    names = []\n",
    "    first_purchases = []\n",
    "\n",
    "    for i in range(1, 47):\n",
    "        user = user_purchases(str(i))\n",
    "        names.append(user['name'])\n",
    "        first_purchases.append(user['purchases'][0]['price_current'])\n",
    "\n",
    "    x = np.array(names)\n",
    "    y = np.array(first_purchases)\n",
    "\n",
    "    plt.bar(x, y)\n",
    "    plt.xlabel('Users')\n",
    "    plt.ylabel('First Purchase Price')\n",
    "    plt.xticks(rotation=90, fontsize=8)\n",
    "    plt.show()"
   ]
  },
  {
   "cell_type": "code",
   "execution_count": null,
   "id": "6a5fcb3e",
   "metadata": {},
   "outputs": [],
   "source": [
    "grafico_first_purchase()"
   ]
  },
  {
   "cell_type": "code",
   "execution_count": 11,
   "id": "4abb17d3",
   "metadata": {},
   "outputs": [],
   "source": [
    "def grafico_first_sell():\n",
    "    names = []\n",
    "    first_sell = []\n",
    "\n",
    "    for i in range(1,47):\n",
    "        user = user_sells(str(i))\n",
    "        names.append(user['name'])\n",
    "        first_sell.append(user['sells'][0]['price_sell'])\n",
    "\n",
    "    x = np.array(names)\n",
    "    y = np.array(first_sell)\n",
    "\n",
    "    plt.bar(x, y)\n",
    "    plt.xlabel('Users', fontsize=12)\n",
    "    plt.ylabel('First Sell Price', fontsize=12)\n",
    "    plt.xticks(rotation=90, fontsize=8)\n",
    "    plt.show()\n"
   ]
  },
  {
   "cell_type": "code",
   "execution_count": null,
   "id": "f6395ae4",
   "metadata": {},
   "outputs": [],
   "source": [
    "grafico_first_sell()"
   ]
  },
  {
   "cell_type": "code",
   "execution_count": null,
   "id": "85a777bc",
   "metadata": {},
   "outputs": [],
   "source": []
  }
 ],
 "metadata": {
  "kernelspec": {
   "display_name": "Python 3",
   "language": "python",
   "name": "python3"
  },
  "language_info": {
   "codemirror_mode": {
    "name": "ipython",
    "version": 3
   },
   "file_extension": ".py",
   "mimetype": "text/x-python",
   "name": "python",
   "nbconvert_exporter": "python",
   "pygments_lexer": "ipython3",
   "version": "3.13.2"
  }
 },
 "nbformat": 4,
 "nbformat_minor": 5
}
